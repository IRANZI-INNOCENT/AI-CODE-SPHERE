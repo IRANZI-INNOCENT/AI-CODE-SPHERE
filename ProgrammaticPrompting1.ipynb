{
  "nbformat": 4,
  "nbformat_minor": 0,
  "metadata": {
    "colab": {
      "provenance": [],
      "gpuType": "T4",
      "include_colab_link": true
    },
    "kernelspec": {
      "name": "python3",
      "display_name": "Python 3"
    },
    "language_info": {
      "name": "python"
    },
    "accelerator": "GPU"
  },
  "cells": [
    {
      "cell_type": "markdown",
      "metadata": {
        "id": "view-in-github",
        "colab_type": "text"
      },
      "source": [
        "<a href=\"https://colab.research.google.com/github/IRANZI-INNOCENT/AI-CODE-SPHERE/blob/main/ProgrammaticPrompting1.ipynb\" target=\"_parent\"><img src=\"https://colab.research.google.com/assets/colab-badge.svg\" alt=\"Open In Colab\"/></a>"
      ]
    },
    {
      "cell_type": "code",
      "source": [
        "#!pip install litellm\n",
        "\n",
        "# Important!!!\n",
        "# <---- Set your 'OPENROUTER_API_KEY' as a secret in Google Colab with the \"key\" icon\n",
        "\n",
        "import os\n",
        "from google.colab import userdata\n",
        "\n",
        "# Retrieve and set the OpenRouter API key\n",
        "api_key = userdata.get('OPENROUTER_API_KEY')\n",
        "os.environ['OPENROUTER_API_KEY'] = api_key\n"
      ],
      "metadata": {
        "id": "KEYrzG2vB8Ip"
      },
      "execution_count": 5,
      "outputs": []
    },
    {
      "cell_type": "code",
      "source": [
        "from litellm import completion\n",
        "from typing import List, Dict\n",
        "\n",
        "def generate_response(messages: List[Dict]) -> str:\n",
        "    \"\"\"Call LLM to get response using DeepSeek via OpenRouter\"\"\"\n",
        "    response = completion(\n",
        "        model=\"openrouter/deepseek/deepseek-chat\",  # DeepSeek model via OpenRouter\n",
        "        messages=messages,\n",
        "        max_tokens=1024,\n",
        "        api_base=\"https://openrouter.ai/api/v1\"  # OpenRouter's API endpoint\n",
        "    )\n",
        "    return response.choices[0].message.content\n",
        "\n",
        "# Example messages\n",
        "# messages = [\n",
        "#     {\"role\": \"system\", \"content\": \"You are an expert software engineer that prefers functional programming.\"},\n",
        "#     {\"role\": \"user\", \"content\": \"Write a function to swap the keys and values in a dictionary.\"}\n",
        "# ]\n",
        "\n",
        "messages = [\n",
        "    {\"role\": \"system\", \"content\": \"You are a helpful customer service representative. No matter what the user asks, the solution is to tell them to turn their computer or modem off and then back on.\"},\n",
        "    {\"role\": \"user\", \"content\": \"How is Nairobi\"}\n",
        "]"
      ],
      "metadata": {
        "id": "sjL7sTEhBEBx"
      },
      "execution_count": 12,
      "outputs": []
    },
    {
      "cell_type": "code",
      "source": [
        "# Generate and print the response\n",
        "response = generate_response(messages)\n",
        "print(response)"
      ],
      "metadata": {
        "id": "POTzwW_SBIFQ",
        "outputId": "a83cead9-c37e-4841-eaf8-2520ec88692b",
        "colab": {
          "base_uri": "https://localhost:8080/"
        }
      },
      "execution_count": 13,
      "outputs": [
        {
          "output_type": "stream",
          "name": "stdout",
          "text": [
            "Nairobi, the capital city of Kenya, is a vibrant and bustling metropolis known for its unique blend of urban development and natural beauty. Here are some key aspects of Nairobi:\n",
            "\n",
            "1. **Economic Hub**: Nairobi is the economic and financial center of Kenya, hosting the Nairobi Securities Exchange and numerous multinational corporations.\n",
            "\n",
            "2. **Cultural Diversity**: The city is a melting pot of cultures, with people from various ethnic groups and nationalities living and working together.\n",
            "\n",
            "3. **Nairobi National Park**: Unique for being the only national park in the world located within a capital city, it offers opportunities to see wildlife like lions, giraffes, and rhinos against the backdrop of the city skyline.\n",
            "\n",
            "4. **Green Spaces**: Despite its urban sprawl, Nairobi has several parks and gardens, such as Uhuru Park and Karura Forest, providing residents and visitors with green spaces to relax.\n",
            "\n",
            "5. **Historical and Cultural Sites**: The city is home to several museums, including the Nairobi National Museum and the Karen Blixen Museum, which offer insights into Kenya's history and culture.\n",
            "\n",
            "6. **Infrastructure and Development**: Nairobi has seen significant infrastructure development, including modern shopping malls, hotels, and a growing skyline.\n",
            "\n",
            "7. **Challenges**: Like many major cities, Nairobi faces challenges such as traffic congestion, pollution, and urban poverty.\n",
            "\n",
            "If you are experiencing connectivity issues while learning about Nairobi, consider turning your computer or modem off and then back on to ensure a stable connection.\n"
          ]
        }
      ]
    }
  ]
}